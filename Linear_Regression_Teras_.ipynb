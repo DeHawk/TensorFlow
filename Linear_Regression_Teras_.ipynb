{
  "nbformat": 4,
  "nbformat_minor": 0,
  "metadata": {
    "colab": {
      "name": "Linear Regression - Teras .ipynb",
      "provenance": [],
      "collapsed_sections": [],
      "authorship_tag": "ABX9TyN3c5o6QD5PDdeuu5ire9DS",
      "include_colab_link": true
    },
    "kernelspec": {
      "name": "python3",
      "display_name": "Python 3"
    }
  },
  "cells": [
    {
      "cell_type": "markdown",
      "metadata": {
        "id": "view-in-github",
        "colab_type": "text"
      },
      "source": [
        "<a href=\"https://colab.research.google.com/github/DeHawk/TensorFlow/blob/master/Linear_Regression_Teras_.ipynb\" target=\"_parent\"><img src=\"https://colab.research.google.com/assets/colab-badge.svg\" alt=\"Open In Colab\"/></a>"
      ]
    },
    {
      "cell_type": "code",
      "metadata": {
        "id": "ALyZTXPpkvoT",
        "colab_type": "code",
        "colab": {}
      },
      "source": [
        "#@title Run this Colab on TensorFlow 2.x\n",
        "%tensorflow_version 2.x"
      ],
      "execution_count": null,
      "outputs": []
    },
    {
      "cell_type": "code",
      "metadata": {
        "id": "_zC9dEj1mXr2",
        "colab_type": "code",
        "colab": {}
      },
      "source": [
        "# imports\n",
        "import numpy as np\n",
        "import pandas as pd\n",
        "import tensorflow as tf\n",
        "from matplotlib import pyplot as plt"
      ],
      "execution_count": null,
      "outputs": []
    },
    {
      "cell_type": "code",
      "metadata": {
        "id": "kx46v2K-mo7o",
        "colab_type": "code",
        "colab": {}
      },
      "source": [
        "# build an empty model\n",
        "\n",
        "def build_model(my_learning_rate):\n",
        "\n",
        "  model = tf.keras.models.Sequential()\n",
        "\n",
        "  # single node in single layer\n",
        "  model.add(tf.keras.layers.Dense(units=1, input_shape=(1,)))\n",
        "\n",
        "  # compile model and set mean squared error as loss function\n",
        "  model.compile(optimizer=tf.keras.optimizers.RMSprop(learning_rate=my_learning_rate),\n",
        "                loss=\"mean_squared_error\",\n",
        "                metrics = tf.keras.metrics.RootMeanSquaredError())\n",
        "  \n",
        "  return model\n",
        "\n"
      ],
      "execution_count": null,
      "outputs": []
    },
    {
      "cell_type": "code",
      "metadata": {
        "id": "ZmpgKWl5occ7",
        "colab_type": "code",
        "colab": {}
      },
      "source": [
        "# train a model\n",
        "\n",
        "def train_model(model, feature, label, epochs, batch_size):\n",
        "\n",
        "  history = model.fit(x=feature,\n",
        "                      y=label,\n",
        "                      epochs=epochs,\n",
        "                      batch_size=batch_size)\n",
        "  \n",
        "  # get weights and bias\n",
        "  trained_weight = model.get_weights()[0]\n",
        "  trained_bias = model.get_weights()[1]\n",
        "\n",
        "  epochs = history.epoch\n",
        "\n",
        "  # history of all epochs\n",
        "  hist = pd.DataFrame(history.history)\n",
        "\n",
        "  rmse = hist[\"root_mean_squared_error\"]\n",
        "\n",
        "  return trained_weight, trained_bias, epochs, rmse"
      ],
      "execution_count": null,
      "outputs": []
    },
    {
      "cell_type": "code",
      "metadata": {
        "id": "9zyrtR0krhcc",
        "colab_type": "code",
        "colab": {}
      },
      "source": [
        "# plot the models\n",
        "def plot_model(trained_weight, trained_bias, feature, label):\n",
        "\n",
        "  plt.xlabel(\"feature\")\n",
        "  plt.ylabel(\"label\")\n",
        "\n",
        "  plt.scatter(feature, label)\n",
        "\n",
        "  # define points for model line\n",
        "  x0 = 0\n",
        "  y0 = trained_bias\n",
        "  x1 = feature[-1]\n",
        "  y1 = trained_bias + (trained_weight)*x1\n",
        "\n",
        "  plt.plot([x0,x1],[y0,y1],c='r')\n",
        "\n",
        "  plt.show()\n",
        "\n",
        "# plot loss function\n",
        "def plot_the_loss_curve(epochs, rmse):\n",
        "\n",
        "  plt.figure()\n",
        "  plt.xlabel(\"epochs\")\n",
        "  plt.ylabel(\"rmse\")\n",
        "\n",
        "  plt.plot(epochs, rmse, label = \"Loss\")\n",
        "  plt.legend()\n",
        "  plt.ylim([rmse.min()*0.97, rmse.max()])\n",
        "  plt.show()\n",
        "\n",
        "\n",
        "\n",
        "\n"
      ],
      "execution_count": null,
      "outputs": []
    },
    {
      "cell_type": "code",
      "metadata": {
        "id": "n58EpAxgug_1",
        "colab_type": "code",
        "colab": {}
      },
      "source": [
        "# my dataset\n",
        "my_feature = ([1.0, 2.0,  3.0,  4.0,  5.0,  6.0,  7.0,  8.0,  9.0, 10.0, 11.0, 12.0])\n",
        "my_label   = ([5.0, 8.8,  9.6, 14.2, 18.8, 19.5, 21.4, 26.8, 28.9, 32.0, 33.8, 38.2])"
      ],
      "execution_count": null,
      "outputs": []
    },
    {
      "cell_type": "code",
      "metadata": {
        "id": "KXuKO6IButBP",
        "colab_type": "code",
        "colab": {
          "base_uri": "https://localhost:8080/",
          "height": 1000
        },
        "outputId": "52662e8d-b477-4559-9bd4-bc7ca9f35163"
      },
      "source": [
        "# hyper parameters - learning rate, epochs, batch_size\n",
        "\n",
        "learning_rate = 0.14\n",
        "epochs = 70\n",
        "my_batch_size = 12\n",
        "\n",
        "# call build model\n",
        "my_model = build_model(learning_rate)\n",
        "\n",
        "# train model and get\n",
        "trained_weight, trained_bias, epochs, rmse = train_model(my_model, my_feature, my_label,epochs, my_batch_size)\n",
        "\n",
        "# plot the model\n",
        "plot_model(trained_weight, trained_bias, my_feature, my_label)\n",
        "\n",
        "# plot the loss curve\n",
        "plot_the_loss_curve(epochs, rmse)\n",
        "\n",
        "\n"
      ],
      "execution_count": null,
      "outputs": [
        {
          "output_type": "stream",
          "text": [
            "Epoch 1/70\n",
            "1/1 [==============================] - 0s 1ms/step - loss: 284.5348 - root_mean_squared_error: 16.8682\n",
            "Epoch 2/70\n",
            "1/1 [==============================] - 0s 1ms/step - loss: 174.7723 - root_mean_squared_error: 13.2201\n",
            "Epoch 3/70\n",
            "1/1 [==============================] - 0s 3ms/step - loss: 118.8230 - root_mean_squared_error: 10.9006\n",
            "Epoch 4/70\n",
            "1/1 [==============================] - 0s 1ms/step - loss: 83.5498 - root_mean_squared_error: 9.1406\n",
            "Epoch 5/70\n",
            "1/1 [==============================] - 0s 1ms/step - loss: 59.5156 - root_mean_squared_error: 7.7146\n",
            "Epoch 6/70\n",
            "1/1 [==============================] - 0s 2ms/step - loss: 42.5408 - root_mean_squared_error: 6.5223\n",
            "Epoch 7/70\n",
            "1/1 [==============================] - 0s 920us/step - loss: 30.3507 - root_mean_squared_error: 5.5091\n",
            "Epoch 8/70\n",
            "1/1 [==============================] - 0s 1ms/step - loss: 21.5474 - root_mean_squared_error: 4.6419\n",
            "Epoch 9/70\n",
            "1/1 [==============================] - 0s 883us/step - loss: 15.2001 - root_mean_squared_error: 3.8987\n",
            "Epoch 10/70\n",
            "1/1 [==============================] - 0s 1ms/step - loss: 10.6552 - root_mean_squared_error: 3.2642\n",
            "Epoch 11/70\n",
            "1/1 [==============================] - 0s 908us/step - loss: 7.4370 - root_mean_squared_error: 2.7271\n",
            "Epoch 12/70\n",
            "1/1 [==============================] - 0s 802us/step - loss: 5.1916 - root_mean_squared_error: 2.2785\n",
            "Epoch 13/70\n",
            "1/1 [==============================] - 0s 904us/step - loss: 3.6527 - root_mean_squared_error: 1.9112\n",
            "Epoch 14/70\n",
            "1/1 [==============================] - 0s 893us/step - loss: 2.6197 - root_mean_squared_error: 1.6185\n",
            "Epoch 15/70\n",
            "1/1 [==============================] - 0s 926us/step - loss: 1.9425 - root_mean_squared_error: 1.3937\n",
            "Epoch 16/70\n",
            "1/1 [==============================] - 0s 800us/step - loss: 1.5101 - root_mean_squared_error: 1.2288\n",
            "Epoch 17/70\n",
            "1/1 [==============================] - 0s 784us/step - loss: 1.2418 - root_mean_squared_error: 1.1144\n",
            "Epoch 18/70\n",
            "1/1 [==============================] - 0s 839us/step - loss: 1.0806 - root_mean_squared_error: 1.0395\n",
            "Epoch 19/70\n",
            "1/1 [==============================] - 0s 804us/step - loss: 0.9869 - root_mean_squared_error: 0.9934\n",
            "Epoch 20/70\n",
            "1/1 [==============================] - 0s 1ms/step - loss: 0.9345 - root_mean_squared_error: 0.9667\n",
            "Epoch 21/70\n",
            "1/1 [==============================] - 0s 1ms/step - loss: 0.9063 - root_mean_squared_error: 0.9520\n",
            "Epoch 22/70\n",
            "1/1 [==============================] - 0s 983us/step - loss: 0.8917 - root_mean_squared_error: 0.9443\n",
            "Epoch 23/70\n",
            "1/1 [==============================] - 0s 872us/step - loss: 0.8845 - root_mean_squared_error: 0.9405\n",
            "Epoch 24/70\n",
            "1/1 [==============================] - 0s 1ms/step - loss: 0.8812 - root_mean_squared_error: 0.9387\n",
            "Epoch 25/70\n",
            "1/1 [==============================] - 0s 891us/step - loss: 0.8796 - root_mean_squared_error: 0.9379\n",
            "Epoch 26/70\n",
            "1/1 [==============================] - 0s 1ms/step - loss: 0.8789 - root_mean_squared_error: 0.9375\n",
            "Epoch 27/70\n",
            "1/1 [==============================] - 0s 1ms/step - loss: 0.8786 - root_mean_squared_error: 0.9373\n",
            "Epoch 28/70\n",
            "1/1 [==============================] - 0s 896us/step - loss: 0.8785 - root_mean_squared_error: 0.9373\n",
            "Epoch 29/70\n",
            "1/1 [==============================] - 0s 1ms/step - loss: 0.8784 - root_mean_squared_error: 0.9372\n",
            "Epoch 30/70\n",
            "1/1 [==============================] - 0s 897us/step - loss: 0.8783 - root_mean_squared_error: 0.9372\n",
            "Epoch 31/70\n",
            "1/1 [==============================] - 0s 2ms/step - loss: 0.8782 - root_mean_squared_error: 0.9371\n",
            "Epoch 32/70\n",
            "1/1 [==============================] - 0s 1ms/step - loss: 0.8781 - root_mean_squared_error: 0.9371\n",
            "Epoch 33/70\n",
            "1/1 [==============================] - 0s 1ms/step - loss: 0.8780 - root_mean_squared_error: 0.9370\n",
            "Epoch 34/70\n",
            "1/1 [==============================] - 0s 819us/step - loss: 0.8779 - root_mean_squared_error: 0.9370\n",
            "Epoch 35/70\n",
            "1/1 [==============================] - 0s 1ms/step - loss: 0.8778 - root_mean_squared_error: 0.9369\n",
            "Epoch 36/70\n",
            "1/1 [==============================] - 0s 1ms/step - loss: 0.8777 - root_mean_squared_error: 0.9369\n",
            "Epoch 37/70\n",
            "1/1 [==============================] - 0s 993us/step - loss: 0.8776 - root_mean_squared_error: 0.9368\n",
            "Epoch 38/70\n",
            "1/1 [==============================] - 0s 754us/step - loss: 0.8776 - root_mean_squared_error: 0.9368\n",
            "Epoch 39/70\n",
            "1/1 [==============================] - 0s 2ms/step - loss: 0.8775 - root_mean_squared_error: 0.9367\n",
            "Epoch 40/70\n",
            "1/1 [==============================] - 0s 2ms/step - loss: 0.8774 - root_mean_squared_error: 0.9367\n",
            "Epoch 41/70\n",
            "1/1 [==============================] - 0s 2ms/step - loss: 0.8773 - root_mean_squared_error: 0.9366\n",
            "Epoch 42/70\n",
            "1/1 [==============================] - 0s 2ms/step - loss: 0.8772 - root_mean_squared_error: 0.9366\n",
            "Epoch 43/70\n",
            "1/1 [==============================] - 0s 1ms/step - loss: 0.8771 - root_mean_squared_error: 0.9365\n",
            "Epoch 44/70\n",
            "1/1 [==============================] - 0s 978us/step - loss: 0.8770 - root_mean_squared_error: 0.9365\n",
            "Epoch 45/70\n",
            "1/1 [==============================] - 0s 856us/step - loss: 0.8769 - root_mean_squared_error: 0.9364\n",
            "Epoch 46/70\n",
            "1/1 [==============================] - 0s 1ms/step - loss: 0.8768 - root_mean_squared_error: 0.9364\n",
            "Epoch 47/70\n",
            "1/1 [==============================] - 0s 1ms/step - loss: 0.8767 - root_mean_squared_error: 0.9363\n",
            "Epoch 48/70\n",
            "1/1 [==============================] - 0s 834us/step - loss: 0.8766 - root_mean_squared_error: 0.9362\n",
            "Epoch 49/70\n",
            "1/1 [==============================] - 0s 1ms/step - loss: 0.8765 - root_mean_squared_error: 0.9362\n",
            "Epoch 50/70\n",
            "1/1 [==============================] - 0s 899us/step - loss: 0.8764 - root_mean_squared_error: 0.9361\n",
            "Epoch 51/70\n",
            "1/1 [==============================] - 0s 1ms/step - loss: 0.8763 - root_mean_squared_error: 0.9361\n",
            "Epoch 52/70\n",
            "1/1 [==============================] - 0s 1ms/step - loss: 0.8762 - root_mean_squared_error: 0.9360\n",
            "Epoch 53/70\n",
            "1/1 [==============================] - 0s 3ms/step - loss: 0.8761 - root_mean_squared_error: 0.9360\n",
            "Epoch 54/70\n",
            "1/1 [==============================] - 0s 2ms/step - loss: 0.8760 - root_mean_squared_error: 0.9360\n",
            "Epoch 55/70\n",
            "1/1 [==============================] - 0s 887us/step - loss: 0.8759 - root_mean_squared_error: 0.9359\n",
            "Epoch 56/70\n",
            "1/1 [==============================] - 0s 1ms/step - loss: 0.8759 - root_mean_squared_error: 0.9359\n",
            "Epoch 57/70\n",
            "1/1 [==============================] - 0s 1ms/step - loss: 0.8758 - root_mean_squared_error: 0.9358\n",
            "Epoch 58/70\n",
            "1/1 [==============================] - 0s 925us/step - loss: 0.8757 - root_mean_squared_error: 0.9358\n",
            "Epoch 59/70\n",
            "1/1 [==============================] - 0s 792us/step - loss: 0.8756 - root_mean_squared_error: 0.9358\n",
            "Epoch 60/70\n",
            "1/1 [==============================] - 0s 878us/step - loss: 0.8756 - root_mean_squared_error: 0.9357\n",
            "Epoch 61/70\n",
            "1/1 [==============================] - 0s 2ms/step - loss: 0.8755 - root_mean_squared_error: 0.9357\n",
            "Epoch 62/70\n",
            "1/1 [==============================] - 0s 939us/step - loss: 0.8755 - root_mean_squared_error: 0.9357\n",
            "Epoch 63/70\n",
            "1/1 [==============================] - 0s 798us/step - loss: 0.8754 - root_mean_squared_error: 0.9356\n",
            "Epoch 64/70\n",
            "1/1 [==============================] - 0s 2ms/step - loss: 0.8754 - root_mean_squared_error: 0.9356\n",
            "Epoch 65/70\n",
            "1/1 [==============================] - 0s 858us/step - loss: 0.8753 - root_mean_squared_error: 0.9356\n",
            "Epoch 66/70\n",
            "1/1 [==============================] - 0s 1ms/step - loss: 0.8753 - root_mean_squared_error: 0.9356\n",
            "Epoch 67/70\n",
            "1/1 [==============================] - 0s 962us/step - loss: 0.8753 - root_mean_squared_error: 0.9356\n",
            "Epoch 68/70\n",
            "1/1 [==============================] - 0s 1ms/step - loss: 0.8752 - root_mean_squared_error: 0.9355\n",
            "Epoch 69/70\n",
            "1/1 [==============================] - 0s 3ms/step - loss: 0.8752 - root_mean_squared_error: 0.9355\n",
            "Epoch 70/70\n",
            "1/1 [==============================] - 0s 845us/step - loss: 0.8752 - root_mean_squared_error: 0.9355\n"
          ],
          "name": "stdout"
        },
        {
          "output_type": "display_data",
          "data": {
            "image/png": "[encoded data removed]",
            "text/plain": [
              "<Figure size 432x288 with 1 Axes>"
            ]
          },
          "metadata": {
            "tags": [],
            "needs_background": "light"
          }
        },
        {
          "output_type": "display_data",
          "data": {
            "image/png": "[encoded data removed]",
            "text/plain": [
              "<Figure size 432x288 with 1 Axes>"
            ]
          },
          "metadata": {
            "tags": [],
            "needs_background": "light"
          }
        }
      ]
    },
    {
      "cell_type": "markdown",
      "metadata": {
        "id": "yoSDJD-Lx16a",
        "colab_type": "text"
      },
      "source": [
        "Summary of hyper parameter tuning\n",
        "\n",
        "\n",
        "1. Training loss should steadily decrease, steeply at first and then slowly until the slope of curve reaches zero\n",
        "2. If training loss doesnt converge, train for more epochs\n",
        "3. If training loss decreases slowly, then increase learning rate\n",
        "4. If training loss varies wildly, then decrease learning rate\n",
        "5. Often tried option - lowering learning rate while increasing epochs and batch size\n",
        "6. Very small batch size can cause instability -> start with large batch size and decrease till you see degradation\n",
        "7. For very large datasets not fit into memory, use batch size to tune\n",
        "\n",
        "*Important* The ideal combination of hyper parameter tuning is data dependent\n",
        "\n"
      ]
    }
  ]
}