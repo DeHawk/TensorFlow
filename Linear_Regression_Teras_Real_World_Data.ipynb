{
  "nbformat": 4,
  "nbformat_minor": 0,
  "metadata": {
    "colab": {
      "name": "Linear Regression - Teras - Real World Data.ipynb",
      "provenance": [],
      "collapsed_sections": [],
      "authorship_tag": "ABX9TyN5oO+N/xlyWC40MrMmEUwn",
      "include_colab_link": true
    },
    "kernelspec": {
      "name": "python3",
      "display_name": "Python 3"
    }
  },
  "cells": [
    {
      "cell_type": "markdown",
      "metadata": {
        "id": "view-in-github",
        "colab_type": "text"
      },
      "source": [
        "<a href=\"https://colab.research.google.com/github/DeHawk/TensorFlow/blob/master/Linear_Regression_Teras_Real_World_Data.ipynb\" target=\"_parent\"><img src=\"https://colab.research.google.com/assets/colab-badge.svg\" alt=\"Open In Colab\"/></a>"
      ]
    },
    {
      "cell_type": "code",
      "metadata": {
        "id": "04jpb_Fe6nbK",
        "colab_type": "code",
        "colab": {}
      },
      "source": [
        "%tensorflow_version 2.x"
      ],
      "execution_count": null,
      "outputs": []
    },
    {
      "cell_type": "code",
      "metadata": {
        "id": "At5SCZ9OIHpP",
        "colab_type": "code",
        "colab": {}
      },
      "source": [
        "# imports\n",
        "import pandas as pd\n",
        "import tensorflow as tf\n",
        "import numpy as np\n",
        "from matplotlib import pyplot as plt\n",
        "\n",
        "# adjust display options\n",
        "pd.options.display.max_rows = 10\n",
        "pd.options.display.float_format = \"{:.1f}\".format"
      ],
      "execution_count": null,
      "outputs": []
    },
    {
      "cell_type": "code",
      "metadata": {
        "id": "IbA5H8KgJItd",
        "colab_type": "code",
        "colab": {
          "base_uri": "https://localhost:8080/",
          "height": 141
        },
        "outputId": "4095ab71-fc2f-414a-cef4-ce162cb10b25"
      },
      "source": [
        "#import dataset\n",
        "\n",
        "training_df = pd.read_csv(filepath_or_buffer=\"https://download.mlcc.google.com/mledu-datasets/california_housing_train.csv\")\n",
        "\n",
        "#scale\n",
        "training_df['median_house_value'] /= 1000\n",
        "\n",
        "training_df.head(n=3)"
      ],
      "execution_count": null,
      "outputs": [
        {
          "output_type": "execute_result",
          "data": {
            "text/html": [
              "<div>\n",
              "<style scoped>\n",
              "    .dataframe tbody tr th:only-of-type {\n",
              "        vertical-align: middle;\n",
              "    }\n",
              "\n",
              "    .dataframe tbody tr th {\n",
              "        vertical-align: top;\n",
              "    }\n",
              "\n",
              "    .dataframe thead th {\n",
              "        text-align: right;\n",
              "    }\n",
              "</style>\n",
              "<table border=\"1\" class=\"dataframe\">\n",
              "  <thead>\n",
              "    <tr style=\"text-align: right;\">\n",
              "      <th></th>\n",
              "      <th>longitude</th>\n",
              "      <th>latitude</th>\n",
              "      <th>housing_median_age</th>\n",
              "      <th>total_rooms</th>\n",
              "      <th>total_bedrooms</th>\n",
              "      <th>population</th>\n",
              "      <th>households</th>\n",
              "      <th>median_income</th>\n",
              "      <th>median_house_value</th>\n",
              "    </tr>\n",
              "  </thead>\n",
              "  <tbody>\n",
              "    <tr>\n",
              "      <th>0</th>\n",
              "      <td>-114.3</td>\n",
              "      <td>34.2</td>\n",
              "      <td>15.0</td>\n",
              "      <td>5612.0</td>\n",
              "      <td>1283.0</td>\n",
              "      <td>1015.0</td>\n",
              "      <td>472.0</td>\n",
              "      <td>1.5</td>\n",
              "      <td>66.9</td>\n",
              "    </tr>\n",
              "    <tr>\n",
              "      <th>1</th>\n",
              "      <td>-114.5</td>\n",
              "      <td>34.4</td>\n",
              "      <td>19.0</td>\n",
              "      <td>7650.0</td>\n",
              "      <td>1901.0</td>\n",
              "      <td>1129.0</td>\n",
              "      <td>463.0</td>\n",
              "      <td>1.8</td>\n",
              "      <td>80.1</td>\n",
              "    </tr>\n",
              "    <tr>\n",
              "      <th>2</th>\n",
              "      <td>-114.6</td>\n",
              "      <td>33.7</td>\n",
              "      <td>17.0</td>\n",
              "      <td>720.0</td>\n",
              "      <td>174.0</td>\n",
              "      <td>333.0</td>\n",
              "      <td>117.0</td>\n",
              "      <td>1.7</td>\n",
              "      <td>85.7</td>\n",
              "    </tr>\n",
              "  </tbody>\n",
              "</table>\n",
              "</div>"
            ],
            "text/plain": [
              "   longitude  latitude  ...  median_income  median_house_value\n",
              "0     -114.3      34.2  ...            1.5                66.9\n",
              "1     -114.5      34.4  ...            1.8                80.1\n",
              "2     -114.6      33.7  ...            1.7                85.7\n",
              "\n",
              "[3 rows x 9 columns]"
            ]
          },
          "metadata": {
            "tags": []
          },
          "execution_count": 5
        }
      ]
    },
    {
      "cell_type": "code",
      "metadata": {
        "id": "kKar4M-JKBE2",
        "colab_type": "code",
        "colab": {
          "base_uri": "https://localhost:8080/",
          "height": 294
        },
        "outputId": "432b21e8-a04c-4c19-e235-719ece984f53"
      },
      "source": [
        "# stats on dataset\n",
        "\n",
        "training_df.describe()"
      ],
      "execution_count": null,
      "outputs": [
        {
          "output_type": "execute_result",
          "data": {
            "text/html": [
              "<div>\n",
              "<style scoped>\n",
              "    .dataframe tbody tr th:only-of-type {\n",
              "        vertical-align: middle;\n",
              "    }\n",
              "\n",
              "    .dataframe tbody tr th {\n",
              "        vertical-align: top;\n",
              "    }\n",
              "\n",
              "    .dataframe thead th {\n",
              "        text-align: right;\n",
              "    }\n",
              "</style>\n",
              "<table border=\"1\" class=\"dataframe\">\n",
              "  <thead>\n",
              "    <tr style=\"text-align: right;\">\n",
              "      <th></th>\n",
              "      <th>longitude</th>\n",
              "      <th>latitude</th>\n",
              "      <th>housing_median_age</th>\n",
              "      <th>total_rooms</th>\n",
              "      <th>total_bedrooms</th>\n",
              "      <th>population</th>\n",
              "      <th>households</th>\n",
              "      <th>median_income</th>\n",
              "      <th>median_house_value</th>\n",
              "    </tr>\n",
              "  </thead>\n",
              "  <tbody>\n",
              "    <tr>\n",
              "      <th>count</th>\n",
              "      <td>17000.0</td>\n",
              "      <td>17000.0</td>\n",
              "      <td>17000.0</td>\n",
              "      <td>17000.0</td>\n",
              "      <td>17000.0</td>\n",
              "      <td>17000.0</td>\n",
              "      <td>17000.0</td>\n",
              "      <td>17000.0</td>\n",
              "      <td>17000.0</td>\n",
              "    </tr>\n",
              "    <tr>\n",
              "      <th>mean</th>\n",
              "      <td>-119.6</td>\n",
              "      <td>35.6</td>\n",
              "      <td>28.6</td>\n",
              "      <td>2643.7</td>\n",
              "      <td>539.4</td>\n",
              "      <td>1429.6</td>\n",
              "      <td>501.2</td>\n",
              "      <td>3.9</td>\n",
              "      <td>207.3</td>\n",
              "    </tr>\n",
              "    <tr>\n",
              "      <th>std</th>\n",
              "      <td>2.0</td>\n",
              "      <td>2.1</td>\n",
              "      <td>12.6</td>\n",
              "      <td>2179.9</td>\n",
              "      <td>421.5</td>\n",
              "      <td>1147.9</td>\n",
              "      <td>384.5</td>\n",
              "      <td>1.9</td>\n",
              "      <td>116.0</td>\n",
              "    </tr>\n",
              "    <tr>\n",
              "      <th>min</th>\n",
              "      <td>-124.3</td>\n",
              "      <td>32.5</td>\n",
              "      <td>1.0</td>\n",
              "      <td>2.0</td>\n",
              "      <td>1.0</td>\n",
              "      <td>3.0</td>\n",
              "      <td>1.0</td>\n",
              "      <td>0.5</td>\n",
              "      <td>15.0</td>\n",
              "    </tr>\n",
              "    <tr>\n",
              "      <th>25%</th>\n",
              "      <td>-121.8</td>\n",
              "      <td>33.9</td>\n",
              "      <td>18.0</td>\n",
              "      <td>1462.0</td>\n",
              "      <td>297.0</td>\n",
              "      <td>790.0</td>\n",
              "      <td>282.0</td>\n",
              "      <td>2.6</td>\n",
              "      <td>119.4</td>\n",
              "    </tr>\n",
              "    <tr>\n",
              "      <th>50%</th>\n",
              "      <td>-118.5</td>\n",
              "      <td>34.2</td>\n",
              "      <td>29.0</td>\n",
              "      <td>2127.0</td>\n",
              "      <td>434.0</td>\n",
              "      <td>1167.0</td>\n",
              "      <td>409.0</td>\n",
              "      <td>3.5</td>\n",
              "      <td>180.4</td>\n",
              "    </tr>\n",
              "    <tr>\n",
              "      <th>75%</th>\n",
              "      <td>-118.0</td>\n",
              "      <td>37.7</td>\n",
              "      <td>37.0</td>\n",
              "      <td>3151.2</td>\n",
              "      <td>648.2</td>\n",
              "      <td>1721.0</td>\n",
              "      <td>605.2</td>\n",
              "      <td>4.8</td>\n",
              "      <td>265.0</td>\n",
              "    </tr>\n",
              "    <tr>\n",
              "      <th>max</th>\n",
              "      <td>-114.3</td>\n",
              "      <td>42.0</td>\n",
              "      <td>52.0</td>\n",
              "      <td>37937.0</td>\n",
              "      <td>6445.0</td>\n",
              "      <td>35682.0</td>\n",
              "      <td>6082.0</td>\n",
              "      <td>15.0</td>\n",
              "      <td>500.0</td>\n",
              "    </tr>\n",
              "  </tbody>\n",
              "</table>\n",
              "</div>"
            ],
            "text/plain": [
              "       longitude  latitude  ...  median_income  median_house_value\n",
              "count    17000.0   17000.0  ...        17000.0             17000.0\n",
              "mean      -119.6      35.6  ...            3.9               207.3\n",
              "std          2.0       2.1  ...            1.9               116.0\n",
              "min       -124.3      32.5  ...            0.5                15.0\n",
              "25%       -121.8      33.9  ...            2.6               119.4\n",
              "50%       -118.5      34.2  ...            3.5               180.4\n",
              "75%       -118.0      37.7  ...            4.8               265.0\n",
              "max       -114.3      42.0  ...           15.0               500.0\n",
              "\n",
              "[8 rows x 9 columns]"
            ]
          },
          "metadata": {
            "tags": []
          },
          "execution_count": 6
        }
      ]
    },
    {
      "cell_type": "code",
      "metadata": {
        "id": "VucFrCT6KOUB",
        "colab_type": "code",
        "colab": {}
      },
      "source": [
        "# build model\n",
        "\n",
        "def build_model(my_learning_rate):\n",
        "\n",
        "  model = tf.keras.models.Sequential()\n",
        "\n",
        "  model.add(tf.keras.layers.Dense(units=1, input_shape = (1,)))\n",
        "\n",
        "  model.compile(optimizer = tf.keras.optimizers.RMSprop(learning_rate=my_learning_rate),\n",
        "                loss = \"mean_squared_error\",\n",
        "                metrics = [tf.keras.metrics.RootMeanSquaredError()]\n",
        "              )\n",
        "  \n",
        "  return model\n"
      ],
      "execution_count": null,
      "outputs": []
    },
    {
      "cell_type": "code",
      "metadata": {
        "id": "0TyR7Zi9NxXn",
        "colab_type": "code",
        "colab": {}
      },
      "source": [
        "# train model function\n",
        "\n",
        "def train_model(model, df, feature, label, epochs, batch_size):\n",
        "\n",
        "  history = model.fit(x=df[feature],\n",
        "                      y=df[label],\n",
        "                      batch_size = batch_size,\n",
        "                      epochs=epochs\n",
        "                      )\n",
        "  \n",
        "  trained_weight = model.get_weights()[0]\n",
        "  trained_bias = model.get_weights()[1]\n",
        "\n",
        "  #list of epochs is stored separately from history\n",
        "  epochs = history.epoch\n",
        "\n",
        "  #error for all epochs\n",
        "  hist = pd.DataFrame(history.history)\n",
        "\n",
        "  rmse = hist[\"root_mean_squared_error\"]\n",
        "\n",
        "  return trained_weight, trained_bias, epochs, rmse\n",
        "\n"
      ],
      "execution_count": 12,
      "outputs": []
    },
    {
      "cell_type": "code",
      "metadata": {
        "id": "2DooEIkGR2Xk",
        "colab_type": "code",
        "colab": {}
      },
      "source": [
        "# plot graphs\n",
        "\n",
        "def plot_the_model(trained_weight, trained_bias, feature, label, training_df):\n",
        "\n",
        "  plt.xlabel(\"feature\")\n",
        "  plt.ylabel(\"label\")\n",
        "\n",
        "  sample_df = training_df.sample(n=200)\n",
        "\n",
        "  plt.scatter(sample_df[feature], sample_df[label])\n",
        "\n",
        "  # draw trend line\n",
        "\n",
        "  x0 = 0\n",
        "  y0 = trained_bias\n",
        "\n",
        "  x1 = 10000\n",
        "  y1 = trained_bias + (trained_weight)*x1\n",
        "\n",
        "  plt.plot([x0,y0],[x1,y1], c='r')\n",
        "\n",
        "  plt.show()\n",
        "\n",
        "\n",
        "\n",
        "def plot_the_loss_curve(epochs, rmse):\n",
        "\n",
        "  plt.figure()\n",
        "\n",
        "  plt.xlabel(\"epochs\")\n",
        "  plt.ylabel(\"root mean square error\")\n",
        "\n",
        "  plt.plot(epochs, rmse, label = \"loss\")\n",
        "  plt.legend()\n",
        "\n",
        "  plt.ylim([rmse.min()*0.97, rmse.max()])\n",
        "  plt.show()\n",
        "\n",
        "\n"
      ],
      "execution_count": 14,
      "outputs": []
    },
    {
      "cell_type": "code",
      "metadata": {
        "id": "UsieOiy9hmtC",
        "colab_type": "code",
        "colab": {
          "base_uri": "https://localhost:8080/",
          "height": 1000
        },
        "outputId": "04ee7114-f104-4293-ae1c-ca8bf1e5837f"
      },
      "source": [
        "#hyper parameters\n",
        "learning_rate = 0.01\n",
        "epochs = 25\n",
        "batch_size = 10\n",
        "\n",
        "# feature and label columns\n",
        "my_feature = \"total_rooms\"\n",
        "my_label = \"median_house_value\"\n",
        "\n",
        "# call model developin functions\n",
        "my_model = build_model(learning_rate)\n",
        "\n",
        "weight, bias, epochs, rmse = train_model(my_model, training_df, my_feature, my_label, epochs, batch_size )\n",
        "\n",
        "#plot the curves\n",
        "\n",
        "plot_the_model(weight, bias, my_feature, my_label, training_df)\n",
        "\n",
        "plot_the_loss_curve(epochs, rmse)"
      ],
      "execution_count": 15,
      "outputs": [
        {
          "output_type": "stream",
          "text": [
            "Epoch 1/25\n",
            "1700/1700 [==============================] - 2s 912us/step - loss: 28389.6113 - root_mean_squared_error: 168.4922\n",
            "Epoch 2/25\n",
            "1700/1700 [==============================] - 2s 915us/step - loss: 26486.2676 - root_mean_squared_error: 162.7460\n",
            "Epoch 3/25\n",
            "1700/1700 [==============================] - 2s 910us/step - loss: 24689.5645 - root_mean_squared_error: 157.1291\n",
            "Epoch 4/25\n",
            "1700/1700 [==============================] - 2s 927us/step - loss: 23172.4375 - root_mean_squared_error: 152.2250\n",
            "Epoch 5/25\n",
            "1700/1700 [==============================] - 2s 938us/step - loss: 21818.6211 - root_mean_squared_error: 147.7113\n",
            "Epoch 6/25\n",
            "1700/1700 [==============================] - 2s 912us/step - loss: 20610.0195 - root_mean_squared_error: 143.5619\n",
            "Epoch 7/25\n",
            "1700/1700 [==============================] - 2s 1ms/step - loss: 19594.2754 - root_mean_squared_error: 139.9796\n",
            "Epoch 8/25\n",
            "1700/1700 [==============================] - 2s 932us/step - loss: 18526.9043 - root_mean_squared_error: 136.1136\n",
            "Epoch 9/25\n",
            "1700/1700 [==============================] - 2s 913us/step - loss: 17624.8730 - root_mean_squared_error: 132.7587\n",
            "Epoch 10/25\n",
            "1700/1700 [==============================] - 2s 912us/step - loss: 16981.6680 - root_mean_squared_error: 130.3137\n",
            "Epoch 11/25\n",
            "1700/1700 [==============================] - 2s 947us/step - loss: 16503.9727 - root_mean_squared_error: 128.4678\n",
            "Epoch 12/25\n",
            "1700/1700 [==============================] - 2s 958us/step - loss: 15868.9434 - root_mean_squared_error: 125.9720\n",
            "Epoch 13/25\n",
            "1700/1700 [==============================] - 2s 986us/step - loss: 15586.4170 - root_mean_squared_error: 124.8456\n",
            "Epoch 14/25\n",
            "1700/1700 [==============================] - 2s 915us/step - loss: 15245.6982 - root_mean_squared_error: 123.4735\n",
            "Epoch 15/25\n",
            "1700/1700 [==============================] - 2s 916us/step - loss: 14969.1064 - root_mean_squared_error: 122.3483\n",
            "Epoch 16/25\n",
            "1700/1700 [==============================] - 2s 938us/step - loss: 14804.3760 - root_mean_squared_error: 121.6732\n",
            "Epoch 17/25\n",
            "1700/1700 [==============================] - 2s 925us/step - loss: 14540.7432 - root_mean_squared_error: 120.5850\n",
            "Epoch 18/25\n",
            "1700/1700 [==============================] - 2s 933us/step - loss: 14552.2090 - root_mean_squared_error: 120.6325\n",
            "Epoch 19/25\n",
            "1700/1700 [==============================] - 2s 910us/step - loss: 14280.5811 - root_mean_squared_error: 119.5014\n",
            "Epoch 20/25\n",
            "1700/1700 [==============================] - 2s 958us/step - loss: 14304.3906 - root_mean_squared_error: 119.6010\n",
            "Epoch 21/25\n",
            "1700/1700 [==============================] - 2s 934us/step - loss: 14286.6719 - root_mean_squared_error: 119.5269\n",
            "Epoch 22/25\n",
            "1700/1700 [==============================] - 2s 943us/step - loss: 14142.2588 - root_mean_squared_error: 118.9212\n",
            "Epoch 23/25\n",
            "1700/1700 [==============================] - 2s 915us/step - loss: 14141.5303 - root_mean_squared_error: 118.9182\n",
            "Epoch 24/25\n",
            "1700/1700 [==============================] - 2s 909us/step - loss: 14192.7432 - root_mean_squared_error: 119.1333\n",
            "Epoch 25/25\n",
            "1700/1700 [==============================] - 2s 946us/step - loss: 14200.3467 - root_mean_squared_error: 119.1652\n"
          ],
          "name": "stdout"
        },
        {
          "output_type": "display_data",
          "data": {
            "image/png": "[encoded data removed]",
            "text/plain": [
              "<Figure size 432x288 with 1 Axes>"
            ]
          },
          "metadata": {
            "tags": [],
            "needs_background": "light"
          }
        },
        {
          "output_type": "display_data",
          "data": {
            "image/png": "[encoded data removed]",
            "text/plain": [
              "<Figure size 432x288 with 1 Axes>"
            ]
          },
          "metadata": {
            "tags": [],
            "needs_background": "light"
          }
        }
      ]
    }
  ]
}