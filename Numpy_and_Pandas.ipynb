{
  "nbformat": 4,
  "nbformat_minor": 0,
  "metadata": {
    "colab": {
      "name": "Numpy and Pandas.ipynb",
      "provenance": [],
      "authorship_tag": "ABX9TyNnQVWLlTrubUE4lDG4GD8b",
      "include_colab_link": true
    },
    "kernelspec": {
      "name": "python3",
      "display_name": "Python 3"
    }
  },
  "cells": [
    {
      "cell_type": "markdown",
      "metadata": {
        "id": "view-in-github",
        "colab_type": "text"
      },
      "source": [
        "<a href=\"https://colab.research.google.com/github/DeHawk/TensorFlow/blob/master/Numpy_and_Pandas.ipynb\" target=\"_parent\"><img src=\"https://colab.research.google.com/assets/colab-badge.svg\" alt=\"Open In Colab\"/></a>"
      ]
    },
    {
      "cell_type": "code",
      "metadata": {
        "id": "1kSquDrA9aBw",
        "colab_type": "code",
        "colab": {}
      },
      "source": [
        "import numpy as np"
      ],
      "execution_count": null,
      "outputs": []
    },
    {
      "cell_type": "code",
      "metadata": {
        "id": "eOf5GRg8-OI-",
        "colab_type": "code",
        "colab": {
          "base_uri": "https://localhost:8080/",
          "height": 35
        },
        "outputId": "db348b27-36e7-45d5-d3d1-cc82d90bb3fa"
      },
      "source": [
        "oned_array = np.array([1.2,2.4,3.5,6.7,8.9])\n",
        "print(oned_array)"
      ],
      "execution_count": null,
      "outputs": [
        {
          "output_type": "stream",
          "text": [
            "[1.2 2.4 3.5 6.7 8.9]\n"
          ],
          "name": "stdout"
        }
      ]
    },
    {
      "cell_type": "code",
      "metadata": {
        "id": "EGeslcUt-a6t",
        "colab_type": "code",
        "colab": {
          "base_uri": "https://localhost:8080/",
          "height": 69
        },
        "outputId": "c4bda445-7f78-4f14-ca73-0b41a3c9ec1e"
      },
      "source": [
        "twod_array = np.array([[1,2],[3,4],[5,6]])\n",
        "print(twod_array)"
      ],
      "execution_count": null,
      "outputs": [
        {
          "output_type": "stream",
          "text": [
            "[[1 2]\n",
            " [3 4]\n",
            " [5 6]]\n"
          ],
          "name": "stdout"
        }
      ]
    },
    {
      "cell_type": "code",
      "metadata": {
        "id": "qHvYaayJ-6BI",
        "colab_type": "code",
        "colab": {
          "base_uri": "https://localhost:8080/",
          "height": 35
        },
        "outputId": "c5f90b1a-4b2a-4d6b-ae52-56755a097f1a"
      },
      "source": [
        "seq_num = np.arange(2,10,2)\n",
        "\n",
        "print(seq_num)"
      ],
      "execution_count": null,
      "outputs": [
        {
          "output_type": "stream",
          "text": [
            "[2 4 6 8]\n"
          ],
          "name": "stdout"
        }
      ]
    },
    {
      "cell_type": "code",
      "metadata": {
        "id": "SsLMcL1O_VqS",
        "colab_type": "code",
        "colab": {
          "base_uri": "https://localhost:8080/",
          "height": 35
        },
        "outputId": "03f3a71d-a0f0-4020-e7cc-d34918fae22d"
      },
      "source": [
        "rand_int = np.random.randint(50,81,size=8)\n",
        "print(rand_int)"
      ],
      "execution_count": null,
      "outputs": [
        {
          "output_type": "stream",
          "text": [
            "[75 50 64 75 69 78 77 56]\n"
          ],
          "name": "stdout"
        }
      ]
    },
    {
      "cell_type": "code",
      "metadata": {
        "id": "I-ipBCUy_jXO",
        "colab_type": "code",
        "colab": {
          "base_uri": "https://localhost:8080/",
          "height": 52
        },
        "outputId": "9f0bbcc5-a306-41cd-f196-dc1b8a8c93a3"
      },
      "source": [
        "rand_flot = np.random.random(8)\n",
        "\n",
        "print(rand_flot)"
      ],
      "execution_count": null,
      "outputs": [
        {
          "output_type": "stream",
          "text": [
            "[0.836653   0.2803285  0.90478938 0.323944   0.61763211 0.14613129\n",
            " 0.79062131 0.15325955]\n"
          ],
          "name": "stdout"
        }
      ]
    },
    {
      "cell_type": "code",
      "metadata": {
        "id": "ea3-bbqO_v-w",
        "colab_type": "code",
        "colab": {
          "base_uri": "https://localhost:8080/",
          "height": 52
        },
        "outputId": "8291c1fa-c472-4ab2-acf2-18b68ee82427"
      },
      "source": [
        "# broadcasting = rand floats between 4 and 5\n",
        "\n",
        "rand_flot_4n5 = rand_flot + 4\n",
        "print(rand_flot_4n5)"
      ],
      "execution_count": null,
      "outputs": [
        {
          "output_type": "stream",
          "text": [
            "[4.836653   4.2803285  4.90478938 4.323944   4.61763211 4.14613129\n",
            " 4.79062131 4.15325955]\n"
          ],
          "name": "stdout"
        }
      ]
    },
    {
      "cell_type": "code",
      "metadata": {
        "id": "ji1OtYgyANpL",
        "colab_type": "code",
        "colab": {}
      },
      "source": [
        "# create linear dataset\n",
        "\n",
        "feature = np.arange(6,21)\n",
        "label = feature*3 + 4"
      ],
      "execution_count": null,
      "outputs": []
    },
    {
      "cell_type": "code",
      "metadata": {
        "id": "oxGOdKctAlyA",
        "colab_type": "code",
        "colab": {
          "base_uri": "https://localhost:8080/",
          "height": 35
        },
        "outputId": "b2c5cbeb-9b84-45cf-85c8-eb538aa86b49"
      },
      "source": [
        "print(label)"
      ],
      "execution_count": null,
      "outputs": [
        {
          "output_type": "stream",
          "text": [
            "[22 25 28 31 34 37 40 43 46 49 52 55 58 61 64]\n"
          ],
          "name": "stdout"
        }
      ]
    },
    {
      "cell_type": "code",
      "metadata": {
        "id": "1rS5IHsnAzM5",
        "colab_type": "code",
        "colab": {
          "base_uri": "https://localhost:8080/",
          "height": 69
        },
        "outputId": "187b376e-a6a1-4150-8bec-fca455e1aefe"
      },
      "source": [
        "#noise1 = np.random.randint(-2,3,size=15) * np.random.random()\n",
        "\n",
        "noise = np.random.random(15)*4 - 2\n",
        "\n",
        "print(noise)"
      ],
      "execution_count": null,
      "outputs": [
        {
          "output_type": "stream",
          "text": [
            "[ 1.87514277 -1.84787181  1.61181208  0.98841429  0.1282045   0.45396688\n",
            " -0.7738368   0.61469346  0.4847922   0.51183083  0.62451791  1.72258314\n",
            "  1.85049893 -0.05308871 -1.81418782]\n"
          ],
          "name": "stdout"
        }
      ]
    },
    {
      "cell_type": "code",
      "metadata": {
        "id": "tsbwC3cNCcgn",
        "colab_type": "code",
        "colab": {
          "base_uri": "https://localhost:8080/",
          "height": 69
        },
        "outputId": "d8b2a5e8-5d2c-461d-d0c3-174b552abb28"
      },
      "source": [
        "label = label + noise\n",
        "\n",
        "print(label)"
      ],
      "execution_count": null,
      "outputs": [
        {
          "output_type": "stream",
          "text": [
            "[25.75028554 21.30425638 31.22362416 32.97682858 34.25640901 37.90793376\n",
            " 38.4523264  44.22938692 46.96958441 50.02366165 53.24903582 58.44516628\n",
            " 61.70099787 60.89382257 60.37162436]\n"
          ],
          "name": "stdout"
        }
      ]
    },
    {
      "cell_type": "code",
      "metadata": {
        "id": "4Rg7JML8K1Xi",
        "colab_type": "code",
        "colab": {}
      },
      "source": [
        "import pandas as pd\n"
      ],
      "execution_count": null,
      "outputs": []
    },
    {
      "cell_type": "code",
      "metadata": {
        "id": "PGzQ6T-rK4bH",
        "colab_type": "code",
        "colab": {
          "base_uri": "https://localhost:8080/",
          "height": 121
        },
        "outputId": "703bd3a0-dafe-4ddc-b46c-ce9e59e54171"
      },
      "source": [
        "# you need values and column names to create dataframe\n",
        "\n",
        "my_data = np.array([[0, 3], [10, 7], [20, 9], [30, 14], [40, 15]])\n",
        "\n",
        "my_columns = ['temp','activity']\n",
        "\n",
        "my_dataframe = pd.DataFrame(data = my_data, columns=my_columns)\n",
        "\n",
        "print(my_dataframe)"
      ],
      "execution_count": null,
      "outputs": [
        {
          "output_type": "stream",
          "text": [
            "   temp  activity\n",
            "0     0         3\n",
            "1    10         7\n",
            "2    20         9\n",
            "3    30        14\n",
            "4    40        15\n"
          ],
          "name": "stdout"
        }
      ]
    },
    {
      "cell_type": "code",
      "metadata": {
        "id": "hGzl9RRMLdTk",
        "colab_type": "code",
        "colab": {
          "base_uri": "https://localhost:8080/",
          "height": 121
        },
        "outputId": "b4794c7e-f344-46b5-e608-fdb21e46fcbd"
      },
      "source": [
        " # add columns\n",
        "\n",
        " my_dataframe['adjusted'] = my_dataframe['activity'] + 3\n",
        "\n",
        " print(my_dataframe)"
      ],
      "execution_count": null,
      "outputs": [
        {
          "output_type": "stream",
          "text": [
            "   temp  activity  adjusted\n",
            "0     0         3         6\n",
            "1    10         7        10\n",
            "2    20         9        12\n",
            "3    30        14        17\n",
            "4    40        15        18\n"
          ],
          "name": "stdout"
        }
      ]
    },
    {
      "cell_type": "code",
      "metadata": {
        "id": "3hWxYHFZL5WD",
        "colab_type": "code",
        "colab": {
          "base_uri": "https://localhost:8080/",
          "height": 87
        },
        "outputId": "c2e8e81a-3a2b-475e-dd2a-1c5bef11c2ac"
      },
      "source": [
        "# first 3 rows\n",
        "print(my_dataframe.head(3))"
      ],
      "execution_count": null,
      "outputs": [
        {
          "output_type": "stream",
          "text": [
            "   temp  activity  adjusted\n",
            "0     0         3         6\n",
            "1    10         7        10\n",
            "2    20         9        12\n"
          ],
          "name": "stdout"
        }
      ]
    },
    {
      "cell_type": "code",
      "metadata": {
        "id": "CxIsH2PaMEjL",
        "colab_type": "code",
        "colab": {
          "base_uri": "https://localhost:8080/",
          "height": 69
        },
        "outputId": "ed354af0-4ef7-4b2e-f7df-6af04f97590c"
      },
      "source": [
        "# only 3rd row\n",
        "print(my_dataframe.iloc[[2]], '\\n')"
      ],
      "execution_count": null,
      "outputs": [
        {
          "output_type": "stream",
          "text": [
            "   temp  activity  adjusted\n",
            "2    20         9        12 \n",
            "\n"
          ],
          "name": "stdout"
        }
      ]
    },
    {
      "cell_type": "code",
      "metadata": {
        "id": "AlY_uZK-MVwj",
        "colab_type": "code",
        "colab": {
          "base_uri": "https://localhost:8080/",
          "height": 87
        },
        "outputId": "28680fb3-537f-4a3b-9dd2-da79880d6fb6"
      },
      "source": [
        "# slicing 3 rows\n",
        "\n",
        "print(my_dataframe[1:4])"
      ],
      "execution_count": null,
      "outputs": [
        {
          "output_type": "stream",
          "text": [
            "   temp  activity  adjusted\n",
            "1    10         7        10\n",
            "2    20         9        12\n",
            "3    30        14        17\n"
          ],
          "name": "stdout"
        }
      ]
    },
    {
      "cell_type": "code",
      "metadata": {
        "id": "r6-4ZN03Mdlq",
        "colab_type": "code",
        "colab": {
          "base_uri": "https://localhost:8080/",
          "height": 121
        },
        "outputId": "7eede1ee-665d-4ad4-8671-5691d3ac46d7"
      },
      "source": [
        "# only column\n",
        "print(my_dataframe['temp'])"
      ],
      "execution_count": null,
      "outputs": [
        {
          "output_type": "stream",
          "text": [
            "0     0\n",
            "1    10\n",
            "2    20\n",
            "3    30\n",
            "4    40\n",
            "Name: temp, dtype: int64\n"
          ],
          "name": "stdout"
        }
      ]
    },
    {
      "cell_type": "code",
      "metadata": {
        "id": "4PR_1f0QirTI",
        "colab_type": "code",
        "colab": {
          "base_uri": "https://localhost:8080/",
          "height": 87
        },
        "outputId": "324c36ea-f354-49ba-b748-fc2bcc3ef0ff"
      },
      "source": [
        "my_cols = ['Elenor', 'Chidi', 'Tahani', 'Jason']\n",
        "my_vals = np.random.randint(0,101, size=(3,4))\n",
        "\n",
        "my_df = pd.DataFrame(data = my_vals, columns=my_cols)\n",
        "\n",
        "my_df['Janet'] = my_df['Tahani'] + my_df['Jason']\n",
        "\n",
        "print(my_df)"
      ],
      "execution_count": null,
      "outputs": [
        {
          "output_type": "stream",
          "text": [
            "   Elenor  Chidi  Tahani  Jason  Janet\n",
            "0      38     25      96     39    135\n",
            "1      96     38      84    100    184\n",
            "2      33     70      49     14     63\n"
          ],
          "name": "stdout"
        }
      ]
    }
  ]
}